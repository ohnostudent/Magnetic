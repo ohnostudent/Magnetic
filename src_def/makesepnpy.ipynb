{
 "cells": [
  {
   "attachments": {},
   "cell_type": "markdown",
   "metadata": {},
   "source": [
    "writer.pyやohnolicのビューワーをもとにラベル分けした結果（.csv）から、教師データ(.npy)をつくる。"
   ]
  },
  {
   "cell_type": "code",
   "execution_count": null,
   "metadata": {},
   "outputs": [],
   "source": [
    "from mymodule import myfunc as mf\n",
    "import pandas as pd\n",
    "import numpy as np\n",
    "import os\n",
    "import glob\n",
    "root_dir = \"../\"\n",
    "\n"
   ]
  },
  {
   "cell_type": "code",
   "execution_count": null,
   "metadata": {},
   "outputs": [],
   "source": [
    "def sepnpy(df, target, outdir):\n",
    "    for snap, dataset, para, job in set(zip(df[\"snappath\"], df[\"dataset\"], df[\"para\"], df[\"job\"])):\n",
    "        dftemp = df[df[\"snappath\"] ==snap]\n",
    "        im = mf.load(mf.gen_snap_path(target,tuple(dftemp[\"para\"])[0],tuple(dftemp[\"job\"])[0],tuple(dftemp[\"dataset\"])[0]))\n",
    "        for xlow,xup,ylow,yup, centerx, centery in zip(dftemp[\"xlow\"],dftemp[\"xup\"],dftemp[\"ylow\"],dftemp[\"yup\"], dftemp[\"centerx\"], dftemp[\"centery\"]):\n",
    "            separated_im = im[ylow:yup,xlow:xup]\n",
    "            np.save(outdir+f\"{target}/{target}_{dataset}.{para}.{job}_{centerx}.{centery}\", separated_im)\n",
    "            print(outdir+f\"{target}/{target}_{dataset}.{para}.{job}_{centerx}.{centery}\")\n",
    "        "
   ]
  },
  {
   "cell_type": "code",
   "execution_count": null,
   "metadata": {},
   "outputs": [],
   "source": [
    "csvs0 = glob.glob(\"../txt/labels0/*\")\n",
    "csvs1X = glob.glob(\"../txt/labels1X/*\")\n",
    "csvs1O = glob.glob(\"../txt/labels1O/*\")\n",
    "\n",
    "targets = [\"density\", \"enstrophy\", \"pressure\",\"magfieldx\", \"magfieldy\", \"velocityx\",\"velocityy\"]\n",
    "\n",
    "# outdir = \"../imgout/0110_77X/\"\n",
    "outdir0 = \"../imgout/0131_not/\"\n",
    "outdir1X = \"../imgout/0131_1X/\"\n",
    "outdir1O = \"../imgout/0131_1O/\"\n",
    "\n",
    "for target in targets:\n",
    "    for outdir, csvs in [(outdir0, csvs0), (outdir1X, csvs1X), (outdir1O, csvs1O)]:\n",
    "        for csv in csvs:    \n",
    "            df = pd.read_csv(csv)\n",
    "            if  not os.path.exists(outdir+f\"{target}\"):\n",
    "                os.mkdir(outdir+f\"{target}\")\n",
    "            sepnpy(df, target, outdir)\n"
   ]
  },
  {
   "cell_type": "code",
   "execution_count": null,
   "metadata": {},
   "outputs": [],
   "source": []
  }
 ],
 "metadata": {
  "kernelspec": {
   "display_name": "Python 3",
   "language": "python",
   "name": "python3"
  },
  "language_info": {
   "codemirror_mode": {
    "name": "ipython",
    "version": 3
   },
   "file_extension": ".py",
   "mimetype": "text/x-python",
   "name": "python",
   "nbconvert_exporter": "python",
   "pygments_lexer": "ipython3",
   "version": "3.10.7"
  },
  "orig_nbformat": 4,
  "vscode": {
   "interpreter": {
    "hash": "6421c100b89c4feb9fb005f61fb54da3e1e62cfff126d543998553caed03568c"
   }
  }
 },
 "nbformat": 4,
 "nbformat_minor": 2
}
