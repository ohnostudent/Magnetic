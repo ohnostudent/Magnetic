{
 "cells": [
  {
   "attachments": {},
   "cell_type": "markdown",
   "metadata": {},
   "source": [
    "LIC法で画像を出力する。\n",
    "forで回すとかなり時間がかかるので並列処理に書き換えるか、複数のターミナルで分けて実行するなど"
   ]
  },
  {
   "cell_type": "code",
   "execution_count": 1,
   "metadata": {},
   "outputs": [],
   "source": [
    "# from PIL import Image\n",
    "# import cv2\n",
    "import matplotlib.pyplot as plt\n",
    "import glob\n",
    "import os\n",
    "from dotenv import load_dotenv\n",
    "from mymodule import myfunc as mf\n",
    "\n",
    "load_dotenv()\n",
    "root_dir = \"../\""
   ]
  },
  {
   "cell_type": "code",
   "execution_count": 2,
   "metadata": {},
   "outputs": [],
   "source": [
    "indirs  = [\"../snap/half/snap77/\", \"../snap/half/snap49/\", \"../snap/half/snap497/\"]\n",
    "outdir = \"../imgout/ohnolic/\"\n",
    "# outdir = \"../imgout/lictest/\"\n",
    "# os.mkdir(outdir)\n",
    "\n",
    "#snap49split1/magfieldx/1/\n",
    "for indir in indirs[-1:]:\n",
    "    # print(glob.glob(indir+\"magfieldy/*\"))\n",
    "    # print(glob.glob(indir+\"magfieldx/*\"))\n",
    "    basename = os.path.basename(os.path.dirname(indir))\n",
    "    newoutdir = outdir+os.path.basename(os.path.dirname(indir))+\"/\"#\"../imgout/ohnolic/snap77/\"\n",
    "    try:\n",
    "        os.mkdir(newoutdir)\n",
    "    except:\n",
    "        print(f\"{newoutdir} is already exist\")\n",
    "    binarypaths = glob.glob(indir+\"magfieldx/*/*.npy\")\n",
    "    for xfile in binarypaths[-1:]:\n",
    "        yfile = xfile.replace(\"magfieldx\", \"magfieldy\")\n",
    "        out = f\"{newoutdir}lic_{basename}.{xfile[-9:-4]}.bmp\"\n",
    "        if os.path.exists(out):\n",
    "            continue\n",
    "        else:\n",
    "            mf.ohno_lic(xfile, yfile, out)\n",
    "            print(\"ohno\" + out)\n",
    "        print(out)\n",
    "\n",
    "\n",
    "\n",
    "\n",
    "\n",
    "\n",
    "\n"
   ]
  },
  {
   "cell_type": "code",
   "execution_count": null,
   "metadata": {},
   "outputs": [],
   "source": []
  }
 ],
 "metadata": {
  "kernelspec": {
   "display_name": "Python 3",
   "language": "python",
   "name": "python3"
  },
  "language_info": {
   "codemirror_mode": {
    "name": "ipython",
    "version": 3
   },
   "file_extension": ".py",
   "mimetype": "text/x-python",
   "name": "python",
   "nbconvert_exporter": "python",
   "pygments_lexer": "ipython3",
   "version": "3.10.7"
  },
  "orig_nbformat": 4,
  "vscode": {
   "interpreter": {
    "hash": "6421c100b89c4feb9fb005f61fb54da3e1e62cfff126d543998553caed03568c"
   }
  }
 },
 "nbformat": 4,
 "nbformat_minor": 2
}
