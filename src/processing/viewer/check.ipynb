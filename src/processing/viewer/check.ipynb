{
 "cells": [
  {
   "cell_type": "code",
   "execution_count": null,
   "metadata": {},
   "outputs": [],
   "source": [
    "import os\n",
    "import pandas as pd\n",
    "ML_DATA_DIR = os.getcwd() + \"/../../../ML/data\""
   ]
  },
  {
   "cell_type": "code",
   "execution_count": null,
   "metadata": {},
   "outputs": [],
   "source": [
    "# パラメータ定義\n",
    "labels = [\"n\", \"x\", \"o\"]\n",
    "label = 2 # 1(x点), 2(o点)\n",
    "dataset = 497 # 77, 497, 4949\n",
    "side = \"right\"  # left, right"
   ]
  },
  {
   "cell_type": "code",
   "execution_count": null,
   "metadata": {},
   "outputs": [],
   "source": [
    "# sort用\n",
    "df_snap = pd.read_csv(ML_DATA_DIR + f\"/LIC_labels/label_snap{dataset}_org.csv\")\n",
    "df_snap = df_snap.sort_values([\"side\", \"label\", \"para\", \"job\", \"centerx\"]).reset_index(drop=True)\n",
    "# df_snap.to_csv(ML_DATA_DIR + f\"/LIC_labels/label_snap{dataset}_org.csv\", encoding=\"utf-8\", index=False, header=True)\n"
   ]
  },
  {
   "cell_type": "code",
   "execution_count": null,
   "metadata": {},
   "outputs": [],
   "source": [
    "# データのインポート\n",
    "df_snap = pd.read_csv(ML_DATA_DIR + f\"/LIC_labels/label_snap{dataset}_org.csv\")\n",
    "df_snap = df_snap.sort_values([\"side\", \"label\", \"para\", \"job\", \"centerx\"]).reset_index(drop=True)\n",
    "jobs = df_snap[\"job\"].unique() # 使用 job 一覧の取得\n",
    "params = df_snap[df_snap[\"label\"] == label][\"para\"].unique() # 使用 param 一覧の取得\n",
    "print(\"データセット : \", dataset)\n",
    "print(\"左右 : \", side)\n",
    "print(\"対象 : \", labels[label], \"点\\n\")\n",
    "print(\"job : \", jobs.tolist(), \"\\n\")\n",
    "\n",
    "for idx, p in enumerate(params):\n",
    "    len_list = list()\n",
    "\n",
    "    for j in jobs:\n",
    "        # 各param, job 毎に切り取った反応点の数を算出\n",
    "        df_g = df_snap[(df_snap[\"para\"] == p) & (df_snap[\"job\"] == j) & (df_snap[\"side\"] == side) & (df_snap[\"label\"] == label)]\n",
    "        len_list.append(len(df_g))\n",
    "\n",
    "    print(f\"{p: 03} : \", len_list)\n"
   ]
  },
  {
   "cell_type": "code",
   "execution_count": null,
   "metadata": {},
   "outputs": [],
   "source": [
    "a = 0\n",
    "idx = 7\n",
    "job = 12\n",
    "display(df_snap[(df_snap[\"para\"] == params[a]) & (df_snap[\"job\"] == job) & (df_snap[\"side\"] == side) & (df_snap[\"label\"] == label)])\n",
    "display(df_snap[(df_snap[\"para\"] == params[idx]) & (df_snap[\"job\"] == job) & (df_snap[\"side\"] == side) & (df_snap[\"label\"] == label)])"
   ]
  },
  {
   "cell_type": "code",
   "execution_count": null,
   "metadata": {},
   "outputs": [],
   "source": []
  }
 ],
 "metadata": {
  "kernelspec": {
   "display_name": ".venv",
   "language": "python",
   "name": "python3"
  },
  "language_info": {
   "codemirror_mode": {
    "name": "ipython",
    "version": 3
   },
   "file_extension": ".py",
   "mimetype": "text/x-python",
   "name": "python",
   "nbconvert_exporter": "python",
   "pygments_lexer": "ipython3",
   "version": "3.10.7"
  },
  "orig_nbformat": 4
 },
 "nbformat": 4,
 "nbformat_minor": 2
}
