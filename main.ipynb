{
 "cells": [
  {
   "attachments": {},
   "cell_type": "markdown",
   "metadata": {},
   "source": [
    "## 研究の流れ\n",
    "\n",
    "このipynb と README.md を見るだけで流れがわかるようにしました。  \n",
    "なお、各処理の詳細が知りたい場合は各ファイルを閲覧してください。\n"
   ]
  },
  {
   "cell_type": "code",
   "execution_count": null,
   "metadata": {},
   "outputs": [],
   "source": [
    "# 標準モジュールのインポート\n",
    "import os\n",
    "import sys\n",
    "import numpy as np\n",
    "import matplotlib.pyplot as plt\n",
    "import seaborn as sns\n",
    "import cv2\n",
    "import os\n",
    "import subprocess\n",
    "from glob import glob\n",
    "\n",
    "# src配下のファイルを読み込めるようにする\n",
    "sys.path.append(os.getcwd() + \"\\src\")\n"
   ]
  },
  {
   "cell_type": "code",
   "execution_count": null,
   "metadata": {},
   "outputs": [],
   "source": [
    "# 共通する自作モジュールのインポート\n",
    "from Visualization.SnapData import SnapData\n",
    "from SetLogger import logger_conf\n",
    "logger = logger_conf()\n"
   ]
  },
  {
   "cell_type": "code",
   "execution_count": null,
   "metadata": {},
   "outputs": [],
   "source": [
    "# ディレクトリの作成と定義\n",
    "from params import ROOT_DIR, SNAP_PATH\n",
    "data_dir = ROOT_DIR + \"\\\\data\"\n",
    "\n",
    "# 出力先フォルダの作成\n",
    "subprocess.run([ROOT_DIR+\"\\etc\\mkdir.bat\"])\n"
   ]
  },
  {
   "attachments": {},
   "cell_type": "markdown",
   "metadata": {},
   "source": [
    "### 1. データの加工"
   ]
  },
  {
   "attachments": {},
   "cell_type": "markdown",
   "metadata": {},
   "source": [
    "##### 1-1 元データを各種パラメータに分割する"
   ]
  },
  {
   "cell_type": "code",
   "execution_count": null,
   "metadata": {},
   "outputs": [],
   "source": [
    "from Processing.separater_loop import data_processing\n",
    "data_processing()\n"
   ]
  },
  {
   "attachments": {},
   "cell_type": "markdown",
   "metadata": {},
   "source": [
    "##### 1-2 バイナリを .npy に変換"
   ]
  },
  {
   "cell_type": "code",
   "execution_count": null,
   "metadata": {},
   "outputs": [],
   "source": [
    "import os\n",
    "import sys\n",
    "sys.path.append(os.getcwd() + \"\\src\")\n",
    "\n",
    "from params import SNAP_PATH\n",
    "from Processing.snap2npy import snap2npy\n"
   ]
  },
  {
   "cell_type": "code",
   "execution_count": null,
   "metadata": {},
   "outputs": [],
   "source": [
    "sp = SnapData()\n",
    "\n",
    "for i in [77, 497, 4949]:\n",
    "    logger.debug(\"START\", extra={\"addinfo\": f\"Snap{i}\"})\n",
    "\n",
    "    for target in [\"density\", \"enstrophy\", \"magfieldx\", \"magfieldy\", \"magfieldz\", \"pressure\", \"velocityx\", \"velocityy\", \"velocityz\"]:\n",
    "        logger.debug(\"START\", extra={\"addinfo\": f\"{target}\"})\n",
    "\n",
    "        for path in glob(SNAP_PATH + f\"\\snap{i}\\{target}\\*\\*\"):\n",
    "            # print(path)\n",
    "            snap2npy(sp, path, i)\n",
    "\n",
    "        logger.debug(\"END\", extra={\"addinfo\": f\"{target}\"})\n",
    "    logger.debug(\"END\", extra={\"addinfo\": f\"Snap{i}\"})\n"
   ]
  },
  {
   "attachments": {},
   "cell_type": "markdown",
   "metadata": {},
   "source": [
    "## 2. 可視化"
   ]
  },
  {
   "attachments": {},
   "cell_type": "markdown",
   "metadata": {},
   "source": [
    "#### 2-1 各種可視化"
   ]
  },
  {
   "cell_type": "code",
   "execution_count": null,
   "metadata": {},
   "outputs": [],
   "source": [
    "# 標準モジュールのインポート\n",
    "import os\n",
    "import sys\n",
    "from glob import glob\n",
    "\n",
    "# src配下のファイルを読み込めるようにする\n",
    "sys.path.append(os.getcwd() + \"\\src\")\n",
    "\n",
    "from params import SNAP_PATH\n",
    "from Visualization.Visualize import VisualizeMethod\n"
   ]
  },
  {
   "cell_type": "code",
   "execution_count": null,
   "metadata": {},
   "outputs": [],
   "source": [
    "for i in [77, 497, 4949]:\n",
    "    target_path = SNAP_PATH + f\"\\snap{i}\"\n",
    "    viz = VisualizeMethod()\n",
    "\n",
    "    files = {}\n",
    "    files[\"density\"] = glob(target_path + f\"\\density\\*\\*\")\n",
    "    files[\"velocityx\"] = glob(target_path + f\"\\\\velocityx\\*\\*\")\n",
    "    files[\"velocityy\"] = glob(target_path + f\"\\\\velocityy\\*\\*\")\n",
    "    for dens_path, vx_path, vy_path in zip(files[\"density\"], files[\"velocityx\"], files[\"velocityy\"]):\n",
    "        viz.drawEnergy_for_velocity(dens_path, vx_path, vy_path)\n",
    "\n",
    "    files[\"magfieldx\"] = glob(target_path + f\"\\magfieldx\\*\\*\")\n",
    "    files[\"magfieldy\"] = glob(target_path + f\"\\magfieldy\\*\\*\")\n",
    "    for magx_path, magy_path in zip(files[\"magfieldx\"], files[\"magfieldy\"]):\n",
    "        viz.drawEnergy_for_magfield(magx_path, magy_path)\n",
    "        \n",
    "    files[\"enstrophy\"] = glob(target_path + f\"\\enstrophy\\*\\*\")\n",
    "    for target in [\"velocityx\", \"velocityy\", \"magfieldx\", \"magfieldy\", \"density\", \"enstrophy\"]:\n",
    "        for path in files[target]:\n",
    "            viz.drawHeatmap(path)\n",
    "            viz.drawEdge(path)\n"
   ]
  },
  {
   "attachments": {},
   "cell_type": "markdown",
   "metadata": {},
   "source": [
    "#### 2-2 AVS"
   ]
  },
  {
   "cell_type": "code",
   "execution_count": null,
   "metadata": {},
   "outputs": [],
   "source": []
  },
  {
   "attachments": {},
   "cell_type": "markdown",
   "metadata": {},
   "source": [
    "#### 2-3 StreamLines"
   ]
  },
  {
   "cell_type": "code",
   "execution_count": null,
   "metadata": {},
   "outputs": [],
   "source": [
    "from StreamLines.StreamLine import ohno_stream\n"
   ]
  },
  {
   "attachments": {},
   "cell_type": "markdown",
   "metadata": {},
   "source": [
    "#### 2-4 LIC"
   ]
  },
  {
   "cell_type": "code",
   "execution_count": null,
   "metadata": {},
   "outputs": [],
   "source": [
    "import os\n",
    "import sys\n",
    "from glob import glob\n",
    "sys.path.append(os.getcwd() + \"\\src\")\n",
    "\n",
    "from params import SRC_PATH, SNAP_PATH, IMGOUT\n",
    "from LIC.LIC import LicMethod\n"
   ]
  },
  {
   "cell_type": "code",
   "execution_count": null,
   "metadata": {},
   "outputs": [],
   "source": [
    "logger.debug(\"START\", extra={\"addinfo\": \"処理開始\"})\n",
    "\n",
    "lic = LicMethod()\n",
    "numbers  = [77, 497, 4949]\n",
    "out_dir = IMGOUT + \"\\LIC\"\n",
    "lic.makedir(\"\\LIC\")\n",
    "\n",
    "for i in numbers:\n",
    "    indir = SNAP_PATH + f\"\\half\\snap{i}\"\n",
    "    dir_basename = os.path.basename(indir) # snap77\n",
    "    base_out_path = out_dir + \"\\\\\" + os.path.basename(indir) # .\\imgout\\LIC\\snap77\n",
    "    lic.makedir(f\"\\LIC\\snap{i}\")\n",
    "\n",
    "    binary_paths = glob(indir+\"\\magfieldx\\*\\*.npy\")\n",
    "    # ファイルが無い場合\n",
    "    if binary_paths == []:\n",
    "        raise \"Error File not Found\"\n",
    "    \n",
    "    for xfile in binary_paths[-1:]:\n",
    "        yfile = xfile.replace(\"magfieldx\", \"magfieldy\")\n",
    "        out_path = base_out_path + f\"\\lic_{dir_basename}.{os.path.splitext(os.path.basename(xfile))[0]}.bmp\"\n",
    "        # print(out_path) # .\\imgout\\LIC\\snap77\\lic_snap77.magfieldx.01.14.bmp\n",
    "        \n",
    "        command = lic.set_command(xfile, yfile, out_path)\n",
    "        lic.LIC(command)\n"
   ]
  },
  {
   "attachments": {},
   "cell_type": "markdown",
   "metadata": {},
   "source": [
    "### 3. 機械学習"
   ]
  },
  {
   "cell_type": "code",
   "execution_count": null,
   "metadata": {},
   "outputs": [],
   "source": [
    "# 機械学習関係のインポート\n"
   ]
  },
  {
   "cell_type": "code",
   "execution_count": null,
   "metadata": {},
   "outputs": [],
   "source": []
  },
  {
   "attachments": {},
   "cell_type": "markdown",
   "metadata": {},
   "source": [
    "#### 3-1 教師データの作成"
   ]
  },
  {
   "cell_type": "code",
   "execution_count": null,
   "metadata": {},
   "outputs": [],
   "source": []
  },
  {
   "attachments": {},
   "cell_type": "markdown",
   "metadata": {},
   "source": [
    "#### 3-2 SVM"
   ]
  },
  {
   "cell_type": "code",
   "execution_count": null,
   "metadata": {},
   "outputs": [],
   "source": []
  },
  {
   "attachments": {},
   "cell_type": "markdown",
   "metadata": {},
   "source": [
    "#### 3-3 非線形SVM"
   ]
  },
  {
   "cell_type": "code",
   "execution_count": null,
   "metadata": {},
   "outputs": [],
   "source": []
  },
  {
   "attachments": {},
   "cell_type": "markdown",
   "metadata": {},
   "source": [
    "#### 3-4 k-Means"
   ]
  },
  {
   "cell_type": "code",
   "execution_count": null,
   "metadata": {},
   "outputs": [],
   "source": [
    "import os\n",
    "import sys\n",
    "import numpy as np\n",
    "from glob import glob\n",
    "sys.path.append(os.getcwd() + \"\\src\")\n",
    "\n",
    "from params import SNAP_PATH\n",
    "from k_means.Clustering import ClusteringMethod\n"
   ]
  },
  {
   "cell_type": "code",
   "execution_count": null,
   "metadata": {},
   "outputs": [],
   "source": [
    "cluster = ClusteringMethod()\n",
    "\n",
    "for num in [77, 497, 4949]:\n",
    "    for target in [\"enstrophy\"]:\n",
    "        path_list = glob(SNAP_PATH + f\"/snap{num}/{target}/*/*\")\n",
    "        num_of_data = len(path_list) # リコネクションがない画像の枚数\n",
    "\n",
    "        temp_data = cluster.compress(cluster.loadSnapData(path_list[0],z=3))\n",
    "        IMGSHAPE = temp_data.shape\n",
    "\n",
    "        N_col = IMGSHAPE[0] * IMGSHAPE[1] * 1 # 行列の列数\n",
    "        X_train = np.zeros((num_of_data, N_col)) # 学習データ格納のためゼロ行列生成\n",
    "        y_train = np.zeros((num_of_data)) # 学習データに対するラベルを格納するためのゼロ行列生成\n",
    "\n",
    "        # リコネクションがない画像を行列に読み込む\n",
    "        for idx, item in enumerate(path_list[:10]):\n",
    "            X_train[idx, :] = cluster.load_regularize(item)\n",
    "            y_train[idx] = 0 # リコネクションがないことを表すラベル\n",
    "\n",
    "        X_train_pca = cluster.PCA(X_train)\n",
    "        cluster_labels = cluster.KMeans(X_train_pca)\n",
    "        df_re = cluster.save_result(cluster_labels, path_list)\n",
    "        # display(df_re)\n"
   ]
  },
  {
   "attachments": {},
   "cell_type": "markdown",
   "metadata": {},
   "source": [
    "#### 3-5 XGBoost"
   ]
  },
  {
   "cell_type": "code",
   "execution_count": null,
   "metadata": {},
   "outputs": [],
   "source": []
  },
  {
   "cell_type": "code",
   "execution_count": null,
   "metadata": {},
   "outputs": [],
   "source": []
  }
 ],
 "metadata": {
  "kernelspec": {
   "display_name": "py_kn",
   "language": "python",
   "name": "python3"
  },
  "language_info": {
   "codemirror_mode": {
    "name": "ipython",
    "version": 3
   },
   "file_extension": ".py",
   "mimetype": "text/x-python",
   "name": "python",
   "nbconvert_exporter": "python",
   "pygments_lexer": "ipython3",
   "version": "3.10.7"
  },
  "orig_nbformat": 4
 },
 "nbformat": 4,
 "nbformat_minor": 2
}
