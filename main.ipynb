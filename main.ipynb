{
 "cells": [
  {
   "attachments": {},
   "cell_type": "markdown",
   "metadata": {},
   "source": [
    "## 研究の流れ\n",
    "\n",
    "このipynb と README.md を見るだけで流れがわかるようにしました。  \n",
    "なお、各処理の詳細が知りたい場合は各ファイルを閲覧してください。\n"
   ]
  },
  {
   "cell_type": "code",
   "execution_count": null,
   "metadata": {},
   "outputs": [],
   "source": [
    "# 標準モジュールのインポート\n",
    "import os\n",
    "import sys\n",
    "import numpy as np\n",
    "import matplotlib.pyplot as plt\n",
    "import seaborn as sns\n",
    "import cv2\n",
    "import os\n",
    "import subprocess\n",
    "from glob import glob\n",
    "\n",
    "# src配下のファイルを読み込めるようにする\n",
    "sys.path.append(os.getcwd() + \"/src\")\n"
   ]
  },
  {
   "cell_type": "code",
   "execution_count": null,
   "metadata": {},
   "outputs": [],
   "source": [
    "# 共通する自作モジュールのインポート\n",
    "from Visualization.SnapData import SnapData\n",
    "from SetLogger import logger_conf\n",
    "# logger = logger_conf()\n"
   ]
  },
  {
   "cell_type": "code",
   "execution_count": null,
   "metadata": {},
   "outputs": [],
   "source": [
    "# ディレクトリの作成と定義\n",
    "from params import ROOT_DIR, SNAP_PATH, SRC_PATH, ML_DATA_DIR, ML_RESULT_DIR, datasets, variable_parameters\n",
    "data_dir = ROOT_DIR + \"/data\"\n",
    "\n",
    "# 出力先フォルダの作成\n",
    "subprocess.run([ROOT_DIR+\"/etc/BasePath.bat\"])\n"
   ]
  },
  {
   "cell_type": "code",
   "execution_count": null,
   "metadata": {},
   "outputs": [],
   "source": []
  },
  {
   "attachments": {},
   "cell_type": "markdown",
   "metadata": {},
   "source": [
    "### 1. データの加工"
   ]
  },
  {
   "attachments": {},
   "cell_type": "markdown",
   "metadata": {},
   "source": [
    "##### 1.1 元データを各種パラメータに分割する"
   ]
  },
  {
   "cell_type": "code",
   "execution_count": null,
   "metadata": {},
   "outputs": [],
   "source": [
    "# 標準モジュールのインポート\n",
    "import os\n",
    "import sys\n",
    "\n",
    "# src配下のファイルを読み込めるようにする\n",
    "sys.path.append(os.getcwd() + \"/src\")\n",
    "\n",
    "from Processing.separater_loop import data_processing\n"
   ]
  },
  {
   "cell_type": "code",
   "execution_count": null,
   "metadata": {},
   "outputs": [],
   "source": [
    "data_processing()\n"
   ]
  },
  {
   "attachments": {},
   "cell_type": "markdown",
   "metadata": {},
   "source": [
    "##### 1.2 バイナリを .npy に変換"
   ]
  },
  {
   "cell_type": "code",
   "execution_count": null,
   "metadata": {},
   "outputs": [],
   "source": [
    "import os\n",
    "import sys\n",
    "from glob import glob\n",
    "sys.path.append(os.getcwd() + \"/src\")\n",
    "\n",
    "from params import SNAP_PATH, datasets, variable_parameters\n",
    "from Processing.snap2npy import snap2npy\n"
   ]
  },
  {
   "cell_type": "code",
   "execution_count": null,
   "metadata": {},
   "outputs": [],
   "source": [
    "sp = SnapData()\n",
    "\n",
    "for dataset in datasets:\n",
    "    for val_param in variable_parameters:\n",
    "        for path in glob(SNAP_PATH + f\"/snap{dataset}/{val_param}/*/*\"):\n",
    "            # print(path)\n",
    "            snap2npy(sp, path, dataset)\n"
   ]
  },
  {
   "attachments": {},
   "cell_type": "markdown",
   "metadata": {},
   "source": [
    "## 2. 可視化"
   ]
  },
  {
   "attachments": {},
   "cell_type": "markdown",
   "metadata": {},
   "source": [
    "#### 2.1 各種可視化"
   ]
  },
  {
   "cell_type": "code",
   "execution_count": null,
   "metadata": {},
   "outputs": [],
   "source": [
    "# 標準モジュールのインポート\n",
    "import os\n",
    "import sys\n",
    "from glob import glob\n",
    "\n",
    "# src配下のファイルを読み込めるようにする\n",
    "sys.path.append(os.getcwd() + \"/src\")\n",
    "\n",
    "\n",
    "from params import SNAP_PATH, datasets\n",
    "from Visualization.Visualize import VisualizeMethod\n"
   ]
  },
  {
   "cell_type": "code",
   "execution_count": null,
   "metadata": {},
   "outputs": [],
   "source": [
    "for dataset in datasets:\n",
    "    target_path = SNAP_PATH + f\"/snap{dataset}\"\n",
    "    viz = VisualizeMethod(dataset)\n",
    "\n",
    "    files = {}\n",
    "    files[\"density\"] = glob(target_path + f\"/density/*/*\")\n",
    "    files[\"velocityx\"] = glob(target_path + f\"/velocityx/*/*\")\n",
    "    files[\"velocityy\"] = glob(target_path + f\"/velocityy/*/*\")\n",
    "    for dens_path, vx_path, vy_path in zip(files[\"density\"], files[\"velocityx\"], files[\"velocityy\"]):\n",
    "        viz.drawEnergy_for_velocity(dens_path, vx_path, vy_path)\n",
    "\n",
    "    files[\"magfieldx\"] = glob(target_path + f\"/magfieldx/*/*\")\n",
    "    files[\"magfieldy\"] = glob(target_path + f\"/magfieldy/*/*\")\n",
    "    for magx_path, magy_path in zip(files[\"magfieldx\"], files[\"magfieldy\"]):\n",
    "        viz.drawEnergy_for_magfield(magx_path, magy_path)\n",
    "        \n",
    "    files[\"enstrophy\"] = glob(target_path + f\"/enstrophy/*/*\")\n",
    "    for target in [\"velocityx\", \"velocityy\", \"magfieldx\", \"magfieldy\", \"density\", \"enstrophy\"]:\n",
    "        for path in files[target]:\n",
    "            viz.drawHeatmap(path)\n",
    "            viz.drawEdge(path)\n"
   ]
  },
  {
   "attachments": {},
   "cell_type": "markdown",
   "metadata": {},
   "source": [
    "#### 2.2 AVS"
   ]
  },
  {
   "cell_type": "code",
   "execution_count": null,
   "metadata": {},
   "outputs": [],
   "source": []
  },
  {
   "attachments": {},
   "cell_type": "markdown",
   "metadata": {},
   "source": [
    "#### 2.3 StreamLines"
   ]
  },
  {
   "cell_type": "code",
   "execution_count": null,
   "metadata": {},
   "outputs": [],
   "source": []
  },
  {
   "attachments": {},
   "cell_type": "markdown",
   "metadata": {},
   "source": [
    "#### 2.4 LIC"
   ]
  },
  {
   "cell_type": "code",
   "execution_count": null,
   "metadata": {},
   "outputs": [],
   "source": [
    "import os\n",
    "import sys\n",
    "from glob import glob\n",
    "sys.path.append(os.getcwd() + \"/src\")\n",
    "\n",
    "from params import SNAP_PATH, IMGOUT, datasets\n",
    "from LIC.LIC import LicMethod\n",
    "\n"
   ]
  },
  {
   "cell_type": "code",
   "execution_count": null,
   "metadata": {},
   "outputs": [],
   "source": [
    "def mainProcess(logger, lic: LicMethod, dir_basename: str, base_out_path: str, binary_paths: list[str]):\n",
    "    for xfile in binary_paths:\n",
    "        try:\n",
    "            logger.debug(\"START\", extra={\"addinfo\": f\"{os.path.splitext(os.path.basename(xfile))[0]} 開始\\n\"})\n",
    "            yfile = xfile.replace(\"magfieldx\", \"magfieldy\")\n",
    "            file_name = os.path.splitext(os.path.basename(xfile.replace(\"magfieldx\", \"magfield\")))\n",
    "            out_path = base_out_path + f\"/lic_{dir_basename}.{file_name[0]}.bmp\"\n",
    "            print(out_path) # ./imgout/LIC/snap77/lic_snap77.magfieldx.01.14.bmp\n",
    "\n",
    "            if not os.path.exists(out_path):\n",
    "                # 引数の作成\n",
    "                command = lic.set_command(xfile, yfile, out_path)\n",
    "                # 実行 (1画像30分程度)\n",
    "                # 22:12:46 -> 22:46:12 (34分)\n",
    "                lic.LIC(command)\n",
    "\n",
    "                # temp ファイルの削除\n",
    "                lic.delete_tempfile(command[1], command[2])\n",
    "            logger.debug(\"END\", extra={\"addinfo\": f\"{os.path.splitext(os.path.basename(xfile))[0]} 終了\\n\"})\n",
    "\n",
    "        except KeyboardInterrupt:\n",
    "            break\n",
    "\n",
    "        except Exception as e:\n",
    "            logger.debug(str(e), extra={\"addinfo\": f\"{os.path.splitext(os.path.basename(xfile))[0]} 中断\\n\"})\n",
    "\n"
   ]
  },
  {
   "cell_type": "code",
   "execution_count": null,
   "metadata": {},
   "outputs": [],
   "source": [
    "\"\"\"\n",
    "処理時間の目安\n",
    "snap77   : 778(ファイル) * 30(分) / 60 / 4 (並列スレッド数) * (CPU速度(GHz) / 2.8(GHz))\n",
    "-> 64.833 (時間)\n",
    "\n",
    "snap497  : 791(ファイル) * 30(分) / 60 / 4 (並列スレッド数) * (CPU速度(GHz) / 2.8(GHz))\n",
    "-> 65.9167 (時間)\n",
    "\n",
    "snap4949 : 886(ファイル) * 30(分) / 60 / 4 (並列スレッド数) * (CPU速度(GHz) / 2.8(GHz))\n",
    "-> 73.83 (時間)\n",
    "\n",
    "計     : 2455 * 30(分) / 60 / 並列スレッド数 * (CPU速度(GHz) / 2.8(GHz))\n",
    "-> 204.58 (時間)\n",
    "\n",
    "\"\"\"\n",
    "\n",
    "from SetLogger import logger_conf\n",
    "from params import datasets\n",
    "from concurrent.futures import ThreadPoolExecutor\n",
    "\n",
    "try:\n",
    "    # ログ取得の開始\n",
    "    logger = logger_conf()\n",
    "    logger.debug(\"START\", extra={\"addinfo\": \"処理開始\\n\\n\"})\n",
    "\n",
    "    dataset = int(input(\"使用するデータセットを入力してください (77/497/4949): \"))\n",
    "    if dataset not in datasets:\n",
    "        logger.debug(\"ERROR\", extra={\"addinfo\": \"このデータセットは使用できません\\n\"})\n",
    "        sys.exit()\n",
    "\n",
    "    logger.debug(\"START\", extra={\"addinfo\": f\"{dataset} 開始\\n\"})\n",
    "    lic = LicMethod()\n",
    "    \n",
    "    # 入出力用path の作成\n",
    "    indir = SNAP_PATH + f\"/half/snap{dataset}\"\n",
    "    dir_basename = os.path.basename(indir) # snap77\n",
    "    out_dir = IMGOUT + \"/LIC\"\n",
    "    base_out_path = out_dir + \"/\" + os.path.basename(indir) # ./imgout/LIC/snap77\n",
    "    lic.makedir(f\"/LIC/snap{dataset}\")\n",
    "\n",
    "    # バイナリファイルの取得\n",
    "    binary_paths = glob(indir+\"/magfieldx/*/*.npy\")\n",
    "\n",
    "    # ファイルが無い場合\n",
    "    if binary_paths == []:\n",
    "        logger.debug(\"ERROR\", extra={\"addinfo\": f\"File not Found\\n\"})\n",
    "        sys.exit()\n",
    "\n",
    "    file_count = len(binary_paths)\n",
    "    with ThreadPoolExecutor(max_workers=6) as exec: # 並列処理 # max_workers は自信のCPUのコア数と相談してください\n",
    "        exec.submit(mainProcess, logger, lic, dir_basename, base_out_path, binary_paths[: file_count // 6])\n",
    "        exec.submit(mainProcess, logger, lic, dir_basename, base_out_path, binary_paths[file_count // 6 : file_count // 6 * 2])\n",
    "        exec.submit(mainProcess, logger, lic, dir_basename, base_out_path, binary_paths[file_count // 6 * 2 : file_count // 6 * 3])\n",
    "        exec.submit(mainProcess, logger, lic, dir_basename, base_out_path, binary_paths[file_count // 6 * 3 : file_count // 6 * 4])\n",
    "        exec.submit(mainProcess, logger, lic, dir_basename, base_out_path, binary_paths[file_count // 6 * 4 : file_count // 6 * 5])\n",
    "        exec.submit(mainProcess, logger, lic, dir_basename, base_out_path, binary_paths[file_count // 6 * 5 :])\n",
    "    \n",
    "    logger.debug(\"END\", extra={\"addinfo\": f\"{dataset} 終了\\n\"})\n",
    "\n",
    "except KeyboardInterrupt as e:\n",
    "    logger.debug(\"ERROR\", extra={\"addinfo\": f\"処理中断\\n\"})\n",
    "\n",
    "except Exception as e:\n",
    "    logger.debug(\"ERROR\", extra={\"addinfo\": f\"{e}\\n\"})\n",
    "\n",
    "finally:\n",
    "    logger.debug(\"END\", extra={\"addinfo\": \"処理終了\"})\n",
    "\n"
   ]
  },
  {
   "attachments": {},
   "cell_type": "markdown",
   "metadata": {},
   "source": [
    "### 3. 教師データの作成"
   ]
  },
  {
   "attachments": {},
   "cell_type": "markdown",
   "metadata": {},
   "source": [
    "#### 3-1 ビューワの作成"
   ]
  },
  {
   "cell_type": "code",
   "execution_count": 1,
   "metadata": {},
   "outputs": [],
   "source": [
    "import os\n",
    "import sys\n",
    "sys.path.append(os.getcwd() + \"/src\")\n",
    "\n",
    "from Processing.viewer.createViewer import createViewer"
   ]
  },
  {
   "cell_type": "code",
   "execution_count": 2,
   "metadata": {},
   "outputs": [],
   "source": [
    "dataset = input(\"使用するデータセットを入力してください(77/497/4949) : \")\n",
    "if dataset not in datasets:\n",
    "    sys.exit()\n",
    "\n",
    "createViewer(dataset)\n"
   ]
  },
  {
   "attachments": {},
   "cell_type": "markdown",
   "metadata": {},
   "source": [
    "#### 3-2 画像の分割\n",
    "\n",
    "`python ./src/Processing/viewer/writer.py`  \n",
    "を実行し、  \n",
    "`./src/Processing/viewer/template/lic_viewer77.html`\n",
    "をWebで開く (Drug & Drop)\n"
   ]
  },
  {
   "attachments": {},
   "cell_type": "markdown",
   "metadata": {},
   "source": [
    "### 3.3 "
   ]
  },
  {
   "cell_type": "code",
   "execution_count": null,
   "metadata": {},
   "outputs": [],
   "source": []
  },
  {
   "attachments": {},
   "cell_type": "markdown",
   "metadata": {},
   "source": [
    "### 4. 機械学習"
   ]
  },
  {
   "attachments": {},
   "cell_type": "markdown",
   "metadata": {},
   "source": [
    "#### 4.1 SVM"
   ]
  },
  {
   "cell_type": "code",
   "execution_count": null,
   "metadata": {},
   "outputs": [],
   "source": []
  },
  {
   "attachments": {},
   "cell_type": "markdown",
   "metadata": {},
   "source": [
    "#### 4.2 非線形SVM"
   ]
  },
  {
   "cell_type": "code",
   "execution_count": null,
   "metadata": {},
   "outputs": [],
   "source": []
  },
  {
   "attachments": {},
   "cell_type": "markdown",
   "metadata": {},
   "source": [
    "#### 4.3 k-Means"
   ]
  },
  {
   "cell_type": "code",
   "execution_count": null,
   "metadata": {},
   "outputs": [],
   "source": [
    "import os\n",
    "import sys\n",
    "import numpy as np\n",
    "from glob import glob\n",
    "sys.path.append(os.getcwd() + \"\\src\")\n",
    "\n",
    "from params import SNAP_PATH, datasets, variable_parameters\n",
    "from k_means.Clustering import ClusteringMethod\n"
   ]
  },
  {
   "cell_type": "code",
   "execution_count": null,
   "metadata": {},
   "outputs": [],
   "source": [
    "cluster = ClusteringMethod()\n",
    "\n",
    "for dataset in datasets:\n",
    "    for target in variable_parameters:\n",
    "        path_list = glob(SNAP_PATH + f\"/snap{dataset}/{target}/*/*\")\n",
    "        num_of_data = len(path_list) # リコネクションがない画像の枚数\n",
    "\n",
    "        temp_data = cluster.compress(cluster.loadSnapData(path_list[0],z=3))\n",
    "        IMGSHAPE = temp_data.shape\n",
    "\n",
    "        N_col = IMGSHAPE[0] * IMGSHAPE[1] * 1 # 行列の列数\n",
    "        X_train = np.zeros((num_of_data, N_col)) # 学習データ格納のためゼロ行列生成\n",
    "        y_train = np.zeros((num_of_data)) # 学習データに対するラベルを格納するためのゼロ行列生成\n",
    "\n",
    "        # リコネクションがない画像を行列に読み込む\n",
    "        for idx, item in enumerate(path_list[:10]):\n",
    "            X_train[idx, :] = cluster.load_regularize(item)\n",
    "            y_train[idx] = 0 # リコネクションがないことを表すラベル\n",
    "\n",
    "        X_train_pca = cluster.PCA(X_train)\n",
    "        cluster_labels = cluster.KMeans(X_train_pca)\n",
    "        df_re = cluster.save_result(cluster_labels, path_list, dataset)\n",
    "        # display(df_re)\n"
   ]
  },
  {
   "attachments": {},
   "cell_type": "markdown",
   "metadata": {},
   "source": [
    "#### 4.4 XGBoost"
   ]
  },
  {
   "cell_type": "code",
   "execution_count": null,
   "metadata": {},
   "outputs": [],
   "source": []
  },
  {
   "cell_type": "code",
   "execution_count": null,
   "metadata": {},
   "outputs": [],
   "source": []
  },
  {
   "cell_type": "code",
   "execution_count": null,
   "metadata": {},
   "outputs": [],
   "source": []
  },
  {
   "cell_type": "code",
   "execution_count": null,
   "metadata": {},
   "outputs": [],
   "source": []
  }
 ],
 "metadata": {
  "kernelspec": {
   "display_name": "py_kn",
   "language": "python",
   "name": "python3"
  },
  "language_info": {
   "codemirror_mode": {
    "name": "ipython",
    "version": 3
   },
   "file_extension": ".py",
   "mimetype": "text/x-python",
   "name": "python",
   "nbconvert_exporter": "python",
   "pygments_lexer": "ipython3",
   "version": "3.10.7"
  },
  "orig_nbformat": 4
 },
 "nbformat": 4,
 "nbformat_minor": 2
}
