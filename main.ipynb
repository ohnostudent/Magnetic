{
 "cells": [
  {
   "attachments": {},
   "cell_type": "markdown",
   "metadata": {},
   "source": [
    "## 研究の流れ\n",
    "\n",
    "このipynb と README.md を見るだけで流れがわかるようにしました。  \n",
    "なお、各処理の詳細が知りたい場合は各ファイルを閲覧してください。\n"
   ]
  },
  {
   "cell_type": "code",
   "execution_count": 2,
   "metadata": {},
   "outputs": [],
   "source": [
    "# 標準モジュールのインポート\n",
    "import os\n",
    "import sys\n",
    "import numpy as np\n",
    "import matplotlib.pyplot as plt\n",
    "import seaborn as sns\n",
    "import cv2\n",
    "import os\n",
    "import subprocess\n",
    "from glob import glob\n",
    "\n",
    "# src配下のファイルを読み込めるようにする\n",
    "sys.path.append(os.getcwd() + \"\\src\")\n"
   ]
  },
  {
   "cell_type": "code",
   "execution_count": null,
   "metadata": {},
   "outputs": [],
   "source": [
    "# 共通する自作モジュールのインポート\n",
    "from SetLogger import logger_conf\n",
    "logger = logger_conf()\n"
   ]
  },
  {
   "cell_type": "code",
   "execution_count": 9,
   "metadata": {},
   "outputs": [
    {
     "data": {
      "text/plain": [
       "CompletedProcess(args=['i:\\\\GraduationResearch\\\\Magnetic\\\\etc\\\\mkdir.bat'], returncode=1)"
      ]
     },
     "execution_count": 9,
     "metadata": {},
     "output_type": "execute_result"
    }
   ],
   "source": [
    "# ディレクトリの作成と定義\n",
    "from params import ROOT_DIR, SNAP_PATH\n",
    "data_dir = ROOT_DIR + \"\\\\data\"\n",
    "\n",
    "# 出力先フォルダの作成\n",
    "subprocess.run([ROOT_DIR+\"\\etc\\mkdir.bat\"])\n"
   ]
  },
  {
   "attachments": {},
   "cell_type": "markdown",
   "metadata": {},
   "source": [
    "### 1. データの加工"
   ]
  },
  {
   "cell_type": "code",
   "execution_count": null,
   "metadata": {},
   "outputs": [],
   "source": [
    "from Processing.separater_loop import data_processing\n",
    "data_processing()\n"
   ]
  },
  {
   "cell_type": "code",
   "execution_count": null,
   "metadata": {},
   "outputs": [],
   "source": [
    "from Processing.separate_binary import separate_binary\n"
   ]
  },
  {
   "attachments": {},
   "cell_type": "markdown",
   "metadata": {},
   "source": [
    "## 2. 可視化"
   ]
  },
  {
   "attachments": {},
   "cell_type": "markdown",
   "metadata": {},
   "source": [
    "#### 2-1 各種可視化"
   ]
  },
  {
   "cell_type": "code",
   "execution_count": null,
   "metadata": {},
   "outputs": [],
   "source": [
    "from Visualization.SnapData import SnapData\n",
    "from Visualization.Visualize import Visualize\n",
    "\n",
    "for i in [77, 497, 4949]:\n",
    "    target_path = SNAP_PATH + f\"\\snap{i}\"\n",
    "    viz = Visualize()\n",
    "\n",
    "    files = {}\n",
    "    files[\"density\"] = glob(target_path + f\"\\density\\*\\*\")\n",
    "    files[\"velocityx\"] = glob(target_path + f\"\\\\velocityx\\*\\*\")\n",
    "    files[\"velocityy\"] = glob(target_path + f\"\\\\velocityy\\*\\*\")\n",
    "    for dens_path, vx_path, vy_path in zip(files[\"density\"], files[\"velocityx\"], files[\"velocityy\"]):\n",
    "        viz.drawEnergy_for_velocity(dens_path, vx_path, vy_path)\n",
    "\n",
    "    files[\"magfieldx\"] = glob(target_path + f\"\\magfieldx\\*\\*\")\n",
    "    files[\"magfieldy\"] = glob(target_path + f\"\\magfieldy\\*\\*\")\n",
    "    for magx_path, magy_path in zip(files[\"magfieldx\"], files[\"magfieldy\"]):\n",
    "        viz.drawEnergy_for_magfield(magx_path, magy_path)\n",
    "        \n",
    "    files[\"enstrophy\"] = glob(target_path + f\"\\enstrophy\\*\\*\")\n",
    "    for target in [\"velocityx\", \"velocityy\", \"magfieldx\", \"magfieldy\", \"density\", \"enstrophy\"]:\n",
    "        for path in files[target]:\n",
    "            viz.drawHeatmap(path)\n",
    "            viz.drawEdge(path)\n"
   ]
  },
  {
   "attachments": {},
   "cell_type": "markdown",
   "metadata": {},
   "source": [
    "#### 2-2 AVS"
   ]
  },
  {
   "cell_type": "code",
   "execution_count": null,
   "metadata": {},
   "outputs": [],
   "source": []
  },
  {
   "attachments": {},
   "cell_type": "markdown",
   "metadata": {},
   "source": [
    "#### 2-3 StreamLines"
   ]
  },
  {
   "cell_type": "code",
   "execution_count": null,
   "metadata": {},
   "outputs": [],
   "source": [
    "from StreamLines.StreamLine import ohno_stream\n"
   ]
  },
  {
   "attachments": {},
   "cell_type": "markdown",
   "metadata": {},
   "source": [
    "#### 2-4 LIC"
   ]
  },
  {
   "cell_type": "code",
   "execution_count": null,
   "metadata": {},
   "outputs": [],
   "source": [
    "from LIC.LIC import LIC\n"
   ]
  },
  {
   "attachments": {},
   "cell_type": "markdown",
   "metadata": {},
   "source": [
    "### 3. 機械学習"
   ]
  },
  {
   "cell_type": "code",
   "execution_count": null,
   "metadata": {},
   "outputs": [],
   "source": [
    "# 機械学習関係のインポート\n"
   ]
  },
  {
   "cell_type": "code",
   "execution_count": null,
   "metadata": {},
   "outputs": [],
   "source": []
  },
  {
   "attachments": {},
   "cell_type": "markdown",
   "metadata": {},
   "source": [
    "#### 3-1 教師データの作成"
   ]
  },
  {
   "cell_type": "code",
   "execution_count": null,
   "metadata": {},
   "outputs": [],
   "source": []
  },
  {
   "attachments": {},
   "cell_type": "markdown",
   "metadata": {},
   "source": [
    "#### 3-2 SVM"
   ]
  },
  {
   "cell_type": "code",
   "execution_count": null,
   "metadata": {},
   "outputs": [],
   "source": []
  },
  {
   "attachments": {},
   "cell_type": "markdown",
   "metadata": {},
   "source": [
    "#### 3-3 非線形SVM"
   ]
  },
  {
   "cell_type": "code",
   "execution_count": null,
   "metadata": {},
   "outputs": [],
   "source": []
  },
  {
   "attachments": {},
   "cell_type": "markdown",
   "metadata": {},
   "source": [
    "#### 3-4 k-Means"
   ]
  },
  {
   "cell_type": "code",
   "execution_count": null,
   "metadata": {},
   "outputs": [],
   "source": []
  },
  {
   "attachments": {},
   "cell_type": "markdown",
   "metadata": {},
   "source": [
    "#### 3-5 XGBoost"
   ]
  },
  {
   "cell_type": "code",
   "execution_count": null,
   "metadata": {},
   "outputs": [],
   "source": []
  },
  {
   "cell_type": "code",
   "execution_count": null,
   "metadata": {},
   "outputs": [],
   "source": []
  }
 ],
 "metadata": {
  "kernelspec": {
   "display_name": "py_kn",
   "language": "python",
   "name": "python3"
  },
  "language_info": {
   "codemirror_mode": {
    "name": "ipython",
    "version": 3
   },
   "file_extension": ".py",
   "mimetype": "text/x-python",
   "name": "python",
   "nbconvert_exporter": "python",
   "pygments_lexer": "ipython3",
   "version": "3.10.7"
  },
  "orig_nbformat": 4
 },
 "nbformat": 4,
 "nbformat_minor": 2
}
